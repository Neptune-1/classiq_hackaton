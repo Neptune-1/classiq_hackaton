{
 "cells": [
  {
   "cell_type": "code",
   "id": "initial_id",
   "metadata": {
    "collapsed": true,
    "ExecuteTime": {
     "end_time": "2024-11-30T20:45:13.836083Z",
     "start_time": "2024-11-30T20:45:13.822447Z"
    }
   },
   "source": [
    "import numpy as np\n",
    "import matplotlib.pyplot as plt\n",
    "from classiq import *\n",
    "from classiq.execution import ExecutionSession\n",
    "from tqdm import tqdm\n",
    "np.random.seed(0)  # Please don't change\n",
    "\n",
    "# Define the 2D Hamiltonian\n",
    "HAMILTONIAN = [\n",
    "    PauliTerm([Pauli.I, Pauli.I], -1.0523),\n",
    "    PauliTerm([Pauli.I, Pauli.Z], 0.3979),\n",
    "    PauliTerm([Pauli.Z, Pauli.I], -0.3979),\n",
    "    PauliTerm([Pauli.Z, Pauli.Z], -0.0112),\n",
    "    PauliTerm([Pauli.X, Pauli.X], 0.1809),\n",
    "]"
   ],
   "outputs": [],
   "execution_count": 72
  },
  {
   "metadata": {
    "ExecuteTime": {
     "end_time": "2024-11-30T20:45:13.997148Z",
     "start_time": "2024-11-30T20:45:13.987491Z"
    }
   },
   "cell_type": "code",
   "source": [
    "matrix_H = hamiltonian_to_matrix(HAMILTONIAN)\n",
    "print(matrix_H)\n",
    "np.linalg.eigh(matrix_H)"
   ],
   "id": "82067f4af0fe4b1b",
   "outputs": [
    {
     "name": "stdout",
     "output_type": "stream",
     "text": [
      "[[-1.0635+0.j  0.    +0.j  0.    +0.j  0.1809+0.j]\n",
      " [ 0.    +0.j -1.8369+0.j  0.1809+0.j  0.    +0.j]\n",
      " [ 0.    +0.j  0.1809+0.j -0.2453+0.j  0.    +0.j]\n",
      " [ 0.1809+0.j  0.    +0.j  0.    +0.j -1.0635+0.j]]\n"
     ]
    },
    {
     "data": {
      "text/plain": [
       "EighResult(eigenvalues=array([-1.85720199, -1.2444    , -0.8826    , -0.22499801]), eigenvectors=array([[ 0.        +0.j,  0.70710678+0.j, -0.70710678+0.j,\n",
       "         0.        +0.j],\n",
       "       [-0.99376135+0.j,  0.        +0.j,  0.        +0.j,\n",
       "        -0.11152752+0.j],\n",
       "       [ 0.11152752+0.j,  0.        +0.j,  0.        +0.j,\n",
       "        -0.99376135+0.j],\n",
       "       [ 0.        +0.j, -0.70710678+0.j, -0.70710678+0.j,\n",
       "         0.        +0.j]]))"
      ]
     },
     "execution_count": 73,
     "metadata": {},
     "output_type": "execute_result"
    }
   ],
   "execution_count": 73
  },
  {
   "metadata": {
    "ExecuteTime": {
     "end_time": "2024-11-30T20:45:14.415181Z",
     "start_time": "2024-11-30T20:45:14.403737Z"
    }
   },
   "cell_type": "code",
   "source": [
    "aux_number = 8\n",
    "\n",
    "@qfunc\n",
    "def prep_ancilla(q: QBit) -> None:\n",
    "    X(target=q)\n",
    "    H(target=q)\n",
    "    \n",
    "    \n",
    "@qfunc\n",
    "def prep_target(qba: QArray[QBit]) -> None:\n",
    "    H(qba[0])\n",
    "    repeat(\n",
    "        count=qba.len - 1,\n",
    "        iteration=lambda index: CX(ctrl=qba[index], target=qba[index + 1]),\n",
    "    )\n",
    "    \n",
    "\n",
    "@qfunc\n",
    "def trotter(qba: QArray[QBit], t: CReal) -> None:\n",
    "\n",
    "    suzuki_trotter(\n",
    "        HAMILTONIAN,\n",
    "        evolution_coefficient=t,\n",
    "        order=1,\n",
    "        repetitions=30,\n",
    "        qbv=qba\n",
    "        )\n",
    "\n",
    "\n",
    "@qfunc\n",
    "def main(aux: Output[QArray[QBit]], E: CReal, t: CArray[CReal, aux_number]) -> None:\n",
    "  global aux_number\n",
    "  \n",
    "  allocate(aux_number, aux)\n",
    "\n",
    "  repeat(aux.len, lambda i: prep_ancilla(aux[i]))\n",
    "\n",
    "  target = QArray(\"target\")\n",
    "\n",
    "  allocate(2, target)\n",
    "  \n",
    "  X(target[0])\n",
    "  X(target[1])\n",
    "    \n",
    "  for i in range(aux_number):\n",
    "    control(aux[i], lambda: trotter(target, t[i]))\n",
    "\n",
    "  for i in range(aux_number):\n",
    "    PHASE(target = aux[i], theta=E*t[i])\n",
    "\n",
    "  for i in range(aux_number):\n",
    "    H(aux[i])"
   ],
   "id": "882ab6d72d894cd1",
   "outputs": [],
   "execution_count": 74
  },
  {
   "metadata": {
    "ExecuteTime": {
     "end_time": "2024-11-30T20:45:29.566825Z",
     "start_time": "2024-11-30T20:45:14.598440Z"
    }
   },
   "cell_type": "code",
   "source": [
    "qmod = create_model(main)\n",
    "qprog = synthesize(qmod)\n",
    "show(qprog)"
   ],
   "id": "44f8fe4caa255059",
   "outputs": [
    {
     "name": "stdout",
     "output_type": "stream",
     "text": [
      "Opening: https://platform.classiq.io/circuit/5f6cf79d-ec55-4e05-919f-341daeccd48f?version=0.59.0\n"
     ]
    }
   ],
   "execution_count": 75
  },
  {
   "metadata": {
    "jupyter": {
     "is_executing": true
    },
    "ExecuteTime": {
     "start_time": "2024-11-30T20:45:29.601499Z"
    }
   },
   "cell_type": "code",
   "source": [
    "execution_session = ExecutionSession(qprog)\n",
    "E_vals = np.linspace(-2, 0, 40)\n",
    "\n",
    "all_p = []\n",
    "t = list(np.random.normal(size = aux_number, scale = 9))\n",
    "\n",
    "\n",
    "for E in tqdm(E_vals):\n",
    "    sample_result = execution_session.sample({\"E\": E, \"t\": t})\n",
    "    counts = sample_result.counts\n",
    "    states = list(counts.keys())\n",
    "    shots = list(counts.values())\n",
    "\n",
    "    p = [i[1]/2048 for i in zip(states, shots) if i[0] == \"1\"*aux_number]\n",
    "    if not p:\n",
    "        p = [0]\n",
    "    all_p.append(p)\n"
   ],
   "id": "fe4e57acbee6858b",
   "outputs": [
    {
     "name": "stderr",
     "output_type": "stream",
     "text": [
      "  0%|          | 0/40 [00:00<?, ?it/s]"
     ]
    }
   ],
   "execution_count": null
  },
  {
   "metadata": {
    "ExecuteTime": {
     "end_time": "2024-11-30T20:44:58.010738313Z",
     "start_time": "2024-11-30T20:31:12.640450Z"
    }
   },
   "cell_type": "code",
   "source": [
    "plt.plot(E_vals, all_p)\n",
    "plt.xlabel(\"Energy\")\n",
    "plt.ylabel(\"Population\")\n",
    "plt.show()\n",
    "#[-1.85720199, -1.2444    , -0.8826    , -0.22499801]"
   ],
   "id": "6ff36f40d61f2511",
   "outputs": [
    {
     "data": {
      "text/plain": [
       "<Figure size 640x480 with 1 Axes>"
      ],
      "image/png": "[encoded data removed]"
     },
     "metadata": {},
     "output_type": "display_data"
    }
   ],
   "execution_count": 64
  },
  {
   "metadata": {},
   "cell_type": "code",
   "outputs": [],
   "execution_count": null,
   "source": "",
   "id": "c18dadc27248218c"
  }
 ],
 "metadata": {
  "kernelspec": {
   "display_name": "Python 3",
   "language": "python",
   "name": "python3"
  },
  "language_info": {
   "codemirror_mode": {
    "name": "ipython",
    "version": 2
   },
   "file_extension": ".py",
   "mimetype": "text/x-python",
   "name": "python",
   "nbconvert_exporter": "python",
   "pygments_lexer": "ipython2",
   "version": "2.7.6"
  }
 },
 "nbformat": 4,
 "nbformat_minor": 5
}
